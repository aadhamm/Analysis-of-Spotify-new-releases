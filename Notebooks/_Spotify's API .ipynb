{
 "cells": [
  {
   "cell_type": "code",
   "execution_count": null,
   "id": "5caaf4db",
   "metadata": {},
   "outputs": [],
   "source": [
    "import requests\n",
    "import json\n",
    "import csv"
   ]
  },
  {
   "cell_type": "code",
   "execution_count": null,
   "id": "e8d3add8",
   "metadata": {},
   "outputs": [],
   "source": [
    "# Authenticate with the Spotify API using the Authorization Code Flow\n",
    "\n",
    "auth_url = 'https://accounts.spotify.com/authorize'\n",
    "client_id = 'your_client_id_here'\n",
    "redirect_uri = 'http://localhost:8000/callback'\n",
    "scope = 'select prefered scopes from here, https://developer.spotify.com/documentation/web-api/concepts/scopes'\n",
    "\n",
    "auth_params = {\n",
    "    'client_id': client_id,\n",
    "    'response_type': 'code',\n",
    "    'redirect_uri': redirect_uri,\n",
    "    'scope': scope\n",
    "}\n",
    "\n",
    "auth_url_params = '&'.join([f\"{key}={val}\" for key, val in auth_params.items()])\n",
    "auth_url = f\"{auth_url}?{auth_url_params}\"\n",
    "\n",
    "print(\"Go to the following URL to authorize the app:\")\n",
    "print(auth_url)"
   ]
  },
  {
   "cell_type": "code",
   "execution_count": null,
   "id": "6833c1c4",
   "metadata": {},
   "outputs": [],
   "source": [
    "# After authorization, retrieve the access token using the authorization code\n",
    "\n",
    "auth_code = input(\"Enter the authorization code: \")\n",
    "access_token_url = 'https://accounts.spotify.com/api/token'\n",
    "\n",
    "access_token_params = {\n",
    "    'client_id': client_id,\n",
    "    'client_secret': 'your_client_secret_here',\n",
    "    'grant_type': 'authorization_code',\n",
    "    'code': auth_code,\n",
    "    'redirect_uri': redirect_uri\n",
    "}\n",
    "\n",
    "access_token_response = requests.post(access_token_url, data=access_token_params)\n",
    "access_token = json.loads(access_token_response.text)['access_token']\n"
   ]
  },
  {
   "cell_type": "code",
   "execution_count": null,
   "id": "9a41121f",
   "metadata": {},
   "outputs": [],
   "source": [
    "# Use the access token to gather user data\n",
    "\n",
    "headers = {\n",
    "    'Authorization': f'Bearer {access_token}'\n",
    "    \n",
    "}"
   ]
  },
  {
   "cell_type": "code",
   "execution_count": null,
   "id": "32b7ecf4",
   "metadata": {},
   "outputs": [],
   "source": [
    "# Get the user's favorite artists\n",
    "\n",
    "favorite_artists_url = 'https://api.spotify.com/v1/me/playlists'\n",
    "favorite_artists_response = requests.get(favorite_artists_url, headers=headers)\n",
    "favorite_artists = json.loads(favorite_artists_response.text)\n",
    "print(favorite_artists)"
   ]
  },
  {
   "cell_type": "code",
   "execution_count": null,
   "id": "7583e5ad",
   "metadata": {},
   "outputs": [],
   "source": [
    "# Set the URL for the Spotify API request\n",
    "saved_tracks_url = 'https://api.spotify.com/v1/me/tracks'\n",
    "\n",
    "\n",
    "# Set the parameters for the Spotify API request\n",
    "params = {\n",
    "    'limit': 50,\n",
    "    'offset': 0\n",
    "}\n",
    "\n",
    "# Send the Spotify API request and convert the response data to a Python dictionary\n",
    "saved_tracks_response = requests.get(saved_tracks_url, headers=headers, params=params)\n",
    "saved_tracks_data = json.loads(saved_tracks_response.text)\n",
    "\n",
    "# Print the names and artists of the saved tracks\n",
    "for track in saved_tracks_data['items']:\n",
    "    print(f\"Track Name: {track['track']['name']}\")\n",
    "    print(f\"Artist Name: {track['track']['artists'][0]['name']}\")\n",
    "    print(f\"Track Popularity:  {track['track']['popularity']}\")\n",
    "    print(f\"Track Duration:  {(track['track']['duration_ms'])/60000}\")\n",
    "    print()"
   ]
  },
  {
   "cell_type": "code",
   "execution_count": null,
   "id": "301685d2",
   "metadata": {},
   "outputs": [],
   "source": [
    "# Define the field names for the CSV file\n",
    "field_names = ['Track Name', 'Artist Name', 'Track Popularity', 'Track Duration in mins']\n",
    "\n",
    "# Open a new CSV file and write the header row\n",
    "with open('Spotify_tracks.csv', mode='w', newline='', encoding='utf-8') as csvfile:\n",
    "    writer = csv.DictWriter(csvfile, fieldnames=field_names)\n",
    "    writer.writeheader()\n",
    "\n",
    "    # Write each track and artist to a new row in the CSV file\n",
    "    for track in saved_tracks_data['items']:\n",
    "        writer.writerow({'Track Name': track['track']['name'], 'Artist Name': track['track']['artists'][0]['name'], 'Track Popularity' : track['track']['popularity'], 'Track Duration in mins' :  (track['track']['duration_ms'])/60000})\n",
    "\n",
    "print('Data written to CSV file.')"
   ]
  },
  {
   "cell_type": "code",
   "execution_count": null,
   "id": "a6d80970",
   "metadata": {},
   "outputs": [],
   "source": [
    "\n",
    "# Set the URL for the Spotify API request\n",
    "new_releases_url = 'https://api.spotify.com/v1/browse/new-releases'\n",
    "\n",
    "\n",
    "\n",
    "# Set the parameters for the Spotify API request\n",
    "params = {\n",
    "    'limit': 50\n",
    "}\n",
    "\n",
    "# Send the Spotify API request and convert the response data to a Python dictionary\n",
    "new_releases_response = requests.get(new_releases_url, headers=headers, params=params)\n",
    "new_releases_data = json.loads(new_releases_response.text)\n",
    "\n",
    "# Open a CSV file for writing and write the header row\n",
    "with open('new_spotify_releases.csv', mode='w', newline='', encoding='utf-8') as file:\n",
    "    writer = csv.writer(file)\n",
    "    writer.writerow(['Album Name', 'Artist Name', 'Release Date', 'Album Artwork URL'])\n",
    "\n",
    "    # Write each album's data to the CSV file\n",
    "    for album in new_releases_data['albums']['items']:\n",
    "        album_name = album['name']\n",
    "        artist_name = album['artists'][0]['name']\n",
    "        release_date = album['release_date']\n",
    "        album_artwork_url = album['images'][0]['url']\n",
    "        writer.writerow([album_name, artist_name, release_date, album_artwork_url])\n",
    "        print(f\"Album Name: {album_name}\")\n",
    "        print(f\"Artist Name: {artist_name}\")\n",
    "        print(f\"Release Date: {release_date}\")\n",
    "        print(f\"Album Artwork URL: {album_artwork_url}\")\n",
    "        print()\n",
    "\n",
    "print(\"Data saved to new_spotify_releases.csv\")"
   ]
  }
 ],
 "metadata": {
  "kernelspec": {
   "display_name": "Python 3 (ipykernel)",
   "language": "python",
   "name": "python3"
  },
  "language_info": {
   "codemirror_mode": {
    "name": "ipython",
    "version": 3
   },
   "file_extension": ".py",
   "mimetype": "text/x-python",
   "name": "python",
   "nbconvert_exporter": "python",
   "pygments_lexer": "ipython3",
   "version": "3.9.13"
  }
 },
 "nbformat": 4,
 "nbformat_minor": 5
}

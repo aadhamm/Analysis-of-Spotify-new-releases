{
 "cells": [
  {
   "cell_type": "code",
   "execution_count": 31,
   "id": "0361284a",
   "metadata": {},
   "outputs": [],
   "source": [
    "import io\n",
    "import openpyxl\n",
    "from openpyxl import load_workbook\n",
    "from openpyxl_image_loader import SheetImageLoader\n",
    "from PIL import Image\n",
    "\n",
    "#loading the Excel File and the sheet\n",
    "pxl_doc = openpyxl.load_workbook('Spotify_new_releases.xlsx')\n",
    "sheet = pxl_doc['Spotify_new_releases']\n",
    "\n",
    "# Load the sheet image loader\n",
    "image_loader = SheetImageLoader(sheet)\n",
    "\n",
    "# Loop through the cells in column E\n",
    "for cell in sheet['E']:\n",
    "    if cell.coordinate not in ['E1', 'E16', 'E21', 'E27', 'E32', 'E37', 'E42', 'E47', 'E49']:\n",
    "        # Get the image data\n",
    "        image_data = image_loader.get(cell.coordinate)\n",
    "        filename = f\"output_images/image_{cell.coordinate}.jpg\"\n",
    "        # Save the image to a file\n",
    "        with open(filename, 'wb') as f:\n",
    "            img_buffer = io.BytesIO()\n",
    "            image_data.save(img_buffer, format='JPEG')\n",
    "            f.write(img_buffer.getvalue())\n"
   ]
  },
  {
   "cell_type": "code",
   "execution_count": null,
   "id": "7b3a2586",
   "metadata": {},
   "outputs": [],
   "source": []
  }
 ],
 "metadata": {
  "kernelspec": {
   "display_name": "Python 3 (ipykernel)",
   "language": "python",
   "name": "python3"
  },
  "language_info": {
   "codemirror_mode": {
    "name": "ipython",
    "version": 3
   },
   "file_extension": ".py",
   "mimetype": "text/x-python",
   "name": "python",
   "nbconvert_exporter": "python",
   "pygments_lexer": "ipython3",
   "version": "3.9.13"
  }
 },
 "nbformat": 4,
 "nbformat_minor": 5
}
